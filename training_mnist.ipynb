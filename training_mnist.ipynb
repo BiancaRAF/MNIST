{
  "nbformat": 4,
  "nbformat_minor": 0,
  "metadata": {
    "colab": {
      "provenance": [],
      "authorship_tag": "ABX9TyP0gzRakXbJSIdRmlMHEDrT",
      "include_colab_link": true
    },
    "kernelspec": {
      "name": "python3",
      "display_name": "Python 3"
    },
    "language_info": {
      "name": "python"
    }
  },
  "cells": [
    {
      "cell_type": "markdown",
      "metadata": {
        "id": "view-in-github",
        "colab_type": "text"
      },
      "source": [
        "<a href=\"https://colab.research.google.com/github/BiancaRAF/MNIST/blob/main/training_mnist.ipynb\" target=\"_parent\"><img src=\"https://colab.research.google.com/assets/colab-badge.svg\" alt=\"Open In Colab\"/></a>"
      ]
    },
    {
      "cell_type": "markdown",
      "source": [
        "# MNIST\n",
        "\n",
        "O objetivo é reproduzir o projeto apresentado no curso da DIO.\n",
        "\n",
        "O projeto tem como objetivo identificar números através de imagens.\n",
        "\n",
        "Link relacionado: http://yann.lecun.com/exdb/mnist/"
      ],
      "metadata": {
        "id": "yP0uVg8crfOf"
      }
    },
    {
      "cell_type": "code",
      "source": [
        "#Importação das biblotecas\n",
        "import numpy as np\n",
        "import torch #Framework - aliado do Tensorflow, outro framework\n",
        "import torch.nn.functional as nf #Funções para a rede\n",
        "import torchvision #Para visão computacional\n",
        "import matplotlib.pyplot as plt\n",
        "from time import time #Trabalhar com tempo no algortitmo (tempo execução, de rede etc)\n",
        "from torchvision import datasets, transforms\n",
        "from torch import nn, optim"
      ],
      "metadata": {
        "id": "xaBf5oCjrsQ6"
      },
      "execution_count": 37,
      "outputs": []
    },
    {
      "cell_type": "markdown",
      "source": [
        "Iremos baixar o dataset do MNIST e tranformar o dataset para o tipo de arquivo tensor.\n",
        "\n",
        "O dataset é baixado do Yann Lecun, responsável pela parte de inteligência artifical e metaverso do Facebook.\n",
        "\n",
        "A imagem em tensor possui uma representação relacionada numérica que a representa de uma forma mais apropriada para trabalhar com redes de deep learning que rodam no TensorFlow estão mais habituadas a trabalhar e, por isso, se torna mais eficiente. \n",
        "\n",
        "Ler mais sobre tensor: https://cursos.alura.com.br/forum/topico-transformar-imagem-em-um-tensor-179620\n"
      ],
      "metadata": {
        "id": "EY5x4WHlubx9"
      }
    },
    {
      "cell_type": "code",
      "source": [
        "transform = transforms.ToTensor() #Definindo a conversão de imagens para tensor\n",
        "\n",
        "trainset = datasets.MNIST('./MNIST_data/', download=True, train=True, transform=transform) #Carrega a parte de treino do dataset\n",
        "trainloader = torch.utils.data.DataLoader(trainset, batch_size=64, shuffle=True) #Cria um buffer para pegar os dados por partes\n",
        "\n",
        "valset = datasets.MNIST('./MNIST_data/', download=True, train=False, transform=transform) #Carrega a parte de validação do dataset\n",
        "trainloader = torch.utils.data.DataLoader(valset, batch_size=64, shuffle=True) #Cria um buffer para pegar os dados por partes"
      ],
      "metadata": {
        "id": "Vc1wqN78szLu"
      },
      "execution_count": 38,
      "outputs": []
    },
    {
      "cell_type": "markdown",
      "source": [
        "Verificar se a imagem está sendo corretamente chamada, no caso verificaremos apenas uma imagem."
      ],
      "metadata": {
        "id": "xJr0HT1HzzqC"
      }
    },
    {
      "cell_type": "code",
      "source": [
        "dataiter = iter(trainloader) #Função inter() ler uma imagem do dataset\n",
        "imagens, etiquetas = dataiter.next() #Chamar o conjunto de imagens\n",
        "\n",
        "plt.imshow(imagens[0].numpy().squeeze(), cmap='gray_r')"
      ],
      "metadata": {
        "colab": {
          "base_uri": "https://localhost:8080/",
          "height": 282
        },
        "id": "heod9dTUx240",
        "outputId": "79e75054-f481-4414-edcd-afe769202cf7"
      },
      "execution_count": 39,
      "outputs": [
        {
          "output_type": "execute_result",
          "data": {
            "text/plain": [
              "<matplotlib.image.AxesImage at 0x7f68ffaa0dd0>"
            ]
          },
          "metadata": {},
          "execution_count": 39
        },
        {
          "output_type": "display_data",
          "data": {
            "text/plain": [
              "<Figure size 432x288 with 1 Axes>"
            ],
            "image/png": "[encoded data removed]"
          },
          "metadata": {
            "needs_background": "light"
          }
        }
      ]
    },
    {
      "cell_type": "markdown",
      "source": [
        "Verificar as dimensões do tensor da imagem e da etiqueta."
      ],
      "metadata": {
        "id": "KgmpTtCy1S_W"
      }
    },
    {
      "cell_type": "code",
      "source": [
        "print(imagens[0].shape) #Relação da imagem com o tensor que a representa\n",
        "print(etiquetas[0].shape)"
      ],
      "metadata": {
        "colab": {
          "base_uri": "https://localhost:8080/"
        },
        "id": "5YyVtm9K1Sf3",
        "outputId": "57efa382-eb20-44f9-de43-2fc2fcdc44be"
      },
      "execution_count": 40,
      "outputs": [
        {
          "output_type": "stream",
          "name": "stdout",
          "text": [
            "torch.Size([1, 28, 28])\n",
            "torch.Size([])\n"
          ]
        }
      ]
    },
    {
      "cell_type": "markdown",
      "source": [
        "Vamos começar a rede!\n",
        "\n",
        "O modelo usado será o modelo Inception V3, também usado pelo Facebook para o reconhecimento facial.\n",
        "\n",
        "Para usar o modelo não precisamos programar ele do zero, pois o encontramos pronto no site https://keras.io/api/applications/.\n",
        "\n",
        "Há vários modelos já existentes, alguns desses modelos podem ser encontrados no site informado acima."
      ],
      "metadata": {
        "id": "AdDHXm-y1y-b"
      }
    },
    {
      "cell_type": "code",
      "source": [
        "#Montando a estrutura da rede\n",
        "\n",
        "class Modelo(nn.Module):\n",
        "  \n",
        "  def __init__(self):\n",
        "    super(Modelo, self).__init__()\n",
        "    self.linear1 = nn.Linear(28*28, 128) #Camada de entrada, 784 neurônios que se ligam a 128\n",
        "    self.linear2 = nn.Linear(128, 64)#Camada interna 1, 128 neurônios que se ligam a 64\n",
        "    self.linear3 = nn.Linear(64, 10) #Camada interna 2, 64 neurônios que se ligam a 10\n",
        "    #Para a camada de saída não é necessário definir nada, pois só precisamos pegar o output da camada interna 2\n",
        "  \n",
        "  def foward(self, X):\n",
        "    X = nf.relu(self.linear1(X)) #Função de ativação da camada de entrada para a camada interna 1\n",
        "    X = nf.relu(self.linear2(X)) #Função de ativação da camada interna 1 para a camada interna 2\n",
        "    X = self.linear3(X) #Função de ativação de camada interna 2 para a camada de saída, nesse caso f(x) = X - ativa as camadas internas da rede\n",
        "    return nf.log_softmax(X, dim=1) #Dados utilizados para calcular a perda "
      ],
      "metadata": {
        "id": "2D--NFWk3fmh"
      },
      "execution_count": 41,
      "outputs": []
    },
    {
      "cell_type": "markdown",
      "source": [
        "### Otimização da rede:\n",
        "\n",
        "Atualização de peso da rede - para isso, precisamos de um otimizador.\n",
        "\n",
        "O otimizador é quem efetivamente treina a rede.\n",
        "\n",
        "Observação: o ideal para o treinamento, é no mínimo 100 épocas. No exemplo usamos apenas 10 para ser mais rápido o desenvolvimento do mesmo."
      ],
      "metadata": {
        "id": "slbEDW7x7x5a"
      }
    },
    {
      "cell_type": "code",
      "source": [
        "#Estrutura de treinamento\n",
        "\n",
        "def treino(modelo, trainloader, device):\n",
        "\n",
        "  otimizador = optim.SGD(modelo.parameters(), lr=0.01, momentum=0.5) #Define a política de atualização dos pesos e da bias\n",
        "  inicio = time() #Timer para sabermos quanto tempo levou o treino\n",
        "\n",
        "  criterio = nn.NLLLoss() #Definindo o critério para calcular a perda\n",
        "  EPOCHS = 10 #Número de epochs que o algoritmo rodará\n",
        "  modelo.train() #Ativando o modo de treinamento do modelo\n",
        "\n",
        "  for epoch in range(EPOCHS):\n",
        "    perda_acumulada = 0 #Inicializando a perda acumulada da epoch em questão\n",
        "\n",
        "    for imagens, etiquetas in trainloader:\n",
        "      \n",
        "      imagens = imagens.view(imagens.shape[0], -1) #Convertendo as imagens em \"vetores\" de 28*28 casas para ficarem compatíveis com a \n",
        "      otimizador.zero_grad() #Zerando os gradientes por conta do ciclo anterior\n",
        "\n",
        "      output = modelo(imagens.to(device)) #Colocando os dados do modelo\n",
        "      perda_instantanea = criterio(output, etiquetas.to(device)) #Calculando a perda da epoch em questão\n",
        "\n",
        "      perda_instantanea.backward() #Back propagation a partir da perda\n",
        "\n",
        "      otimizador().step() #Atualizando os pesos e bias\n",
        "\n",
        "      perda_acumulada += perda_instantanea.item() #Atualização da perda acumulada\n",
        "    \n",
        "    else:\n",
        "      print(\"Epoch {} - Perda resultante: {}\".format(epoch+1, perda_acumulada/len(trainloader)))\n",
        "  print(\"\\nTempo de treino (em minutos) = \", (time()-inicio)/60)"
      ],
      "metadata": {
        "id": "8gWBFjCg8o3G"
      },
      "execution_count": 42,
      "outputs": []
    },
    {
      "cell_type": "markdown",
      "source": [
        "Agora, criar o modelo de validação."
      ],
      "metadata": {
        "id": "TVY6YP39BIQ8"
      }
    },
    {
      "cell_type": "code",
      "source": [
        "def validacao(modelo, valloader, device):\n",
        "  conta_corretas, conta_todas = 0, 0\n",
        "  for imagens, etiquetas in valloader:\n",
        "    for i in range(len(etiquetas)):\n",
        "      img = imagens[i].view(1, 784) # 784, pois 28*28\n",
        "      #Desativar o autograd para acelerar a validação. Grafos computacionais dinâmicos têm um custo alto de processamento\n",
        "      with torch.nograd():\n",
        "        logps = modelo(img.to(device)) #Output do modelo em escala logaritmica\n",
        "    \n",
        "    ps = torch.exp(logps) #Converte output para escala normal (lembrando que é um tensor)\n",
        "    probab = list(ps.cpu().numpy()[0])\n",
        "    etiqueta_pred = probab.index(max(probab)) #Converte o tensor em um número, no caso, o número que o modelo previu ---\n",
        "    etiqueta_certa = etiquetas.numpy()[i]\n",
        "\n",
        "    if (etiqueta_certa == etiqueta_pred):\n",
        "      conta_corretas += 1\n",
        "    conta_todas += 1\n",
        "  print(\"Total de imagens testadas = \", conta_todas)\n",
        "  print(f\"\\nPrecisão do modelo = {conta_corretas*100/conta_todas}%\")"
      ],
      "metadata": {
        "id": "WVh3DYzFBHsq"
      },
      "execution_count": 43,
      "outputs": []
    },
    {
      "cell_type": "markdown",
      "source": [
        "Vamos fazer a leitura do modelo que rodará na rede."
      ],
      "metadata": {
        "id": "rlLJhaylFOpi"
      }
    },
    {
      "cell_type": "code",
      "source": [
        "modelo = Modelo() #Chamando o Modelo para executar - inicializa do modelo de treinamento\n",
        "\n",
        "device = torch.device(\"cuda\" if torch.cuda.is_available() else \"cpu\") #Modelo rodará na GPU se possível - verifica se é possível roda no cuda, se tiver uma nvideo dará, se não será no CPU\n",
        "modelo.to(device)"
      ],
      "metadata": {
        "colab": {
          "base_uri": "https://localhost:8080/"
        },
        "id": "J_GrXsF_FUeX",
        "outputId": "64cb659f-b2da-422a-b406-769f2f85b42c"
      },
      "execution_count": 44,
      "outputs": [
        {
          "output_type": "execute_result",
          "data": {
            "text/plain": [
              "Modelo(\n",
              "  (linear1): Linear(in_features=784, out_features=128, bias=True)\n",
              "  (linear2): Linear(in_features=128, out_features=64, bias=True)\n",
              "  (linear3): Linear(in_features=64, out_features=10, bias=True)\n",
              ")"
            ]
          },
          "metadata": {},
          "execution_count": 44
        }
      ]
    }
  ]
}